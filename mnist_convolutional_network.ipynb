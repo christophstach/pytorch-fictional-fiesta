{
 "cells": [
  {
   "cell_type": "code",
   "execution_count": null,
   "metadata": {},
   "outputs": [],
   "source": [
    "%matplotlib inline\n",
    "\n",
    "import os.path\n",
    "import torch\n",
    "import torch.nn as nn\n",
    "import torch.optim as optim\n",
    "import torch.utils.data\n",
    "from torch.utils.data import DataLoader\n",
    "from datasets import MnistDataset\n",
    "from models import ConvolutionalNetwork\n",
    "import matplotlib.pyplot as plt\n",
    "from tqdm import tqdm\n",
    "from statistics import mean\n",
    "import pickle\n",
    "\n",
    "import plotly\n",
    "import plotly.graph_objs as go\n",
    "\n",
    "plotly.offline.init_notebook_mode(connected=True)"
   ]
  },
  {
   "cell_type": "code",
   "execution_count": null,
   "metadata": {},
   "outputs": [],
   "source": [
    "train_dataset = MnistDataset(train=True)\n",
    "test_dataset = MnistDataset(train=False)\n",
    "\n",
    "train_loader = DataLoader(train_dataset, batch_size=640, shuffle=True)\n",
    "test_loader = DataLoader(test_dataset, batch_size=10000, shuffle=True)\n",
    "\n",
    "classes = ('0', '1', '2', '3', '4', '5', '6', '7', '8', '9')"
   ]
  },
  {
   "cell_type": "markdown",
   "metadata": {},
   "source": [
    "# Exploring"
   ]
  },
  {
   "cell_type": "code",
   "execution_count": null,
   "metadata": {},
   "outputs": [],
   "source": [
    "# Get a random image of a the desired class\n",
    "def get_random_image_of_class(x, y, desired_class):\n",
    "    random = torch.randint(0, len(y) - 1, (1, 0), dtype=torch.long).item()\n",
    "    while y[random] != desired_class:\n",
    "        random = torch.randint(0, len(y) - 1, (1, 0), dtype=torch.long).item()    \n",
    "    \n",
    "    return x[random].squeeze(0)"
   ]
  },
  {
   "cell_type": "code",
   "execution_count": null,
   "metadata": {},
   "outputs": [],
   "source": [
    "fig, axes = plt.subplots(10, 10, figsize=(10, 10))\n",
    "\n",
    "for row in range(10):\n",
    "    for column in range(10):\n",
    "        axes[0, column].set_title(classes[column])\n",
    "        axes[row, column].imshow(get_random_image_of_class(train_dataset.data, train_dataset.labels, column), cmap='binary', interpolation='bicubic')\n",
    "        axes[row, column].axis('off')\n",
    "\n",
    "plt.show()"
   ]
  },
  {
   "cell_type": "markdown",
   "metadata": {},
   "source": [
    "# Defining loss function and backpropagation"
   ]
  },
  {
   "cell_type": "code",
   "execution_count": null,
   "metadata": {},
   "outputs": [],
   "source": [
    "device = torch.device(\"cuda:0\" if torch.cuda.is_available() else \"cpu\")\n",
    "net = ConvolutionalNetwork().to(device)\n",
    "params = list(net.parameters())\n",
    "criterion = nn.CrossEntropyLoss()\n",
    "optimizer = optim.SGD(net.parameters(), lr=0.001, momentum=0.9)\n",
    "print(net)"
   ]
  },
  {
   "cell_type": "markdown",
   "metadata": {},
   "source": [
    "# Training"
   ]
  },
  {
   "cell_type": "code",
   "execution_count": null,
   "metadata": {},
   "outputs": [],
   "source": [
    "epochs = 10\n",
    "loss_history_file = './logs/mnist-convolutional-network.loss-history.pkl'\n",
    "model_file = './models/mnist-convolutional-network.pt'\n",
    "\n",
    "if os.path.isfile(loss_history_file) and os.path.getsize(loss_history_file) > 0:\n",
    "    with open(loss_history_file, 'rb') as f:\n",
    "        loss_history = pickle.load(f)\n",
    "else:\n",
    "    loss_history = []\n",
    "\n",
    "if os.path.isfile(model_file) and os.path.getsize(model_file) > 0:\n",
    "    state = torch.load(model_file)\n",
    "    net.load_state_dict(state)\n",
    "\n",
    "for epoch in tqdm(range(epochs), desc='Training'):\n",
    "    losses_in_epoch = []\n",
    "    for data in train_loader:\n",
    "        inputs, labels = [d.to(device) for d in data]\n",
    "        optimizer.zero_grad()\n",
    "        \n",
    "        # forward + backward + optimize\n",
    "        \n",
    "        outputs = net(inputs)\n",
    "        \n",
    "        loss = criterion(outputs, labels)\n",
    "        loss.backward()\n",
    "        optimizer.step()\n",
    "\n",
    "        losses_in_epoch.append(loss.item())\n",
    "    loss_history.append(mean(losses_in_epoch))\n",
    "\n",
    "    if epoch % 5 == 0:\n",
    "        torch.save(net.state_dict(), model_file)\n",
    "        with open(loss_history_file, 'wb') as f:\n",
    "            pickle.dump(loss_history, f)\n",
    "\n",
    "torch.save(net.state_dict(), model_file)\n",
    "with open(loss_history_file, 'wb') as f:\n",
    "    pickle.dump(loss_history, f)\n"
   ]
  },
  {
   "cell_type": "code",
   "execution_count": null,
   "metadata": {},
   "outputs": [],
   "source": [
    "plotly.offline.iplot({\n",
    "    'data': [\n",
    "        go.Scatter(\n",
    "            y=loss_history\n",
    "        )\n",
    "    ],\n",
    "    'layout': go.Layout(title='Loss History')\n",
    "})"
   ]
  },
  {
   "cell_type": "markdown",
   "metadata": {},
   "source": [
    "# Testing"
   ]
  },
  {
   "cell_type": "code",
   "execution_count": null,
   "metadata": {},
   "outputs": [],
   "source": [
    "correct = 0\n",
    "total   = 0\n",
    "\n",
    "class_correct = [0, 0, 0, 0, 0, 0, 0, 0, 0, 0]\n",
    "class_total   = [0, 0, 0, 0, 0, 0, 0, 0, 0, 0]\n",
    "with torch.no_grad():\n",
    "    for data in test_loader:\n",
    "        images, labels = [d.to(device) for d in data]\n",
    "        outputs = net(images)\n",
    "        _, predicted = torch.max(outputs.data, 1)\n",
    "        \n",
    "        for i, prediction in enumerate(predicted):\n",
    "            total += 1\n",
    "            class_total[labels[i]] += 1\n",
    "            correct += 1 if prediction.item() == labels[i] else 0\n",
    "            class_correct[labels[i]] += 1 if prediction.item() == labels[i] else 0\n",
    "            \n",
    "print('Accuracy of the network on the 10000 test images: %.2f %%' % (100 * correct / total))\n",
    "for i, o in enumerate(class_correct):\n",
    "    print(classes[i] + ':', '%.2f %%' % (100 * o / class_total[i]))"
   ]
  }
 ],
 "metadata": {
  "kernelspec": {
   "display_name": "Python 3",
   "language": "python",
   "name": "python3"
  },
  "language_info": {
   "codemirror_mode": {
    "name": "ipython",
    "version": 3
   },
   "file_extension": ".py",
   "mimetype": "text/x-python",
   "name": "python",
   "nbconvert_exporter": "python",
   "pygments_lexer": "ipython3",
   "version": "3.6.5"
  }
 },
 "nbformat": 4,
 "nbformat_minor": 2
}
